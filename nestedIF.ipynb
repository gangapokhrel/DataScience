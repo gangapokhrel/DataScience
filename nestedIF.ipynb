{
  "nbformat": 4,
  "nbformat_minor": 0,
  "metadata": {
    "colab": {
      "provenance": [],
      "authorship_tag": "ABX9TyNgdM84sl/qgNU0TJoB5Bk1",
      "include_colab_link": true
    },
    "kernelspec": {
      "name": "python3",
      "display_name": "Python 3"
    },
    "language_info": {
      "name": "python"
    }
  },
  "cells": [
    {
      "cell_type": "markdown",
      "metadata": {
        "id": "view-in-github",
        "colab_type": "text"
      },
      "source": [
        "<a href=\"https://colab.research.google.com/github/gangapokhrel/DataScience/blob/main/nestedIF.ipynb\" target=\"_parent\"><img src=\"https://colab.research.google.com/assets/colab-badge.svg\" alt=\"Open In Colab\"/></a>"
      ]
    },
    {
      "cell_type": "code",
      "execution_count": 1,
      "metadata": {
        "colab": {
          "base_uri": "https://localhost:8080/",
          "height": 141
        },
        "id": "opCF1dJ3h5_n",
        "outputId": "1e150e23-e630-443a-f0e6-98ff15e32f3d"
      },
      "outputs": [
        {
          "output_type": "error",
          "ename": "SyntaxError",
          "evalue": "ignored",
          "traceback": [
            "\u001b[0;36m  File \u001b[0;32m\"<ipython-input-1-6546ad02d648>\"\u001b[0;36m, line \u001b[0;32m14\u001b[0m\n\u001b[0;31m    else:\u001b[0m\n\u001b[0m    ^\u001b[0m\n\u001b[0;31mSyntaxError\u001b[0m\u001b[0;31m:\u001b[0m invalid syntax\n"
          ]
        }
      ],
      "source": [
        "#nested if\n",
        "\n",
        "g=500\n",
        "if (g<500):\n",
        "  print ('if (g<500):')\n",
        "  if (g<300):\n",
        "    print ('if (g<300):')\n",
        "if (g<100):\n",
        "  print ('if(g<100):')\n",
        "  if (g<50):\n",
        "    print('if(g<50):')\n",
        "else:\n",
        "  print ('else if(g<50):')\n",
        "  else:\n",
        "    print ('else if(g<100):')\n",
        "    else:\n",
        "      print('else if(g<300):')\n",
        "      else:\n",
        "        print ('else if(g<500):')\n",
        ""
      ]
    }
  ]
}