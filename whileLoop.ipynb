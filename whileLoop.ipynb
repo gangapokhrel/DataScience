{
  "nbformat": 4,
  "nbformat_minor": 0,
  "metadata": {
    "colab": {
      "provenance": [],
      "authorship_tag": "ABX9TyO0mQVkFOiECtzahqvDrmmN",
      "include_colab_link": true
    },
    "kernelspec": {
      "name": "python3",
      "display_name": "Python 3"
    },
    "language_info": {
      "name": "python"
    }
  },
  "cells": [
    {
      "cell_type": "markdown",
      "metadata": {
        "id": "view-in-github",
        "colab_type": "text"
      },
      "source": [
        "<a href=\"https://colab.research.google.com/github/gangapokhrel/DataScience/blob/main/whileLoop.ipynb\" target=\"_parent\"><img src=\"https://colab.research.google.com/assets/colab-badge.svg\" alt=\"Open In Colab\"/></a>"
      ]
    },
    {
      "cell_type": "code",
      "execution_count": 8,
      "metadata": {
        "colab": {
          "base_uri": "https://localhost:8080/"
        },
        "id": "UmQ4hVeNlOWb",
        "outputId": "0b8278a6-dc3a-42d7-e86c-f88e4d4aea22"
      },
      "outputs": [
        {
          "output_type": "stream",
          "name": "stdout",
          "text": [
            "500 is greater than 300\n",
            "480 is greater than 300\n",
            "460 is greater than 300\n",
            "440 is greater than 300\n",
            "420 is greater than 300\n",
            "400 is greater than 300\n",
            "380 is greater than 300\n",
            "360 is greater than 300\n",
            "340 is greater than 300\n",
            "320 is greater than 300\n"
          ]
        }
      ],
      "source": [
        "# while loop\n",
        "a=500\n",
        "while a > 300: #True/False\n",
        "    print (a, 'is greater than 300')\n",
        "    a -=20\n",
        "\n",
        ""
      ]
    },
    {
      "cell_type": "code",
      "source": [
        "a =700\n",
        "while a < 1500:\n",
        "    print (a,'is less than 1500')\n",
        "    a+=20"
      ],
      "metadata": {
        "colab": {
          "base_uri": "https://localhost:8080/"
        },
        "id": "sCOa6tagnY2E",
        "outputId": "f7a8af68-ca14-4ebf-d0e4-64e80fcce73e"
      },
      "execution_count": 17,
      "outputs": [
        {
          "output_type": "stream",
          "name": "stdout",
          "text": [
            "700 is less than 1500\n",
            "720 is less than 1500\n",
            "740 is less than 1500\n",
            "760 is less than 1500\n",
            "780 is less than 1500\n",
            "800 is less than 1500\n",
            "820 is less than 1500\n",
            "840 is less than 1500\n",
            "860 is less than 1500\n",
            "880 is less than 1500\n",
            "900 is less than 1500\n",
            "920 is less than 1500\n",
            "940 is less than 1500\n",
            "960 is less than 1500\n",
            "980 is less than 1500\n",
            "1000 is less than 1500\n",
            "1020 is less than 1500\n",
            "1040 is less than 1500\n",
            "1060 is less than 1500\n",
            "1080 is less than 1500\n",
            "1100 is less than 1500\n",
            "1120 is less than 1500\n",
            "1140 is less than 1500\n",
            "1160 is less than 1500\n",
            "1180 is less than 1500\n",
            "1200 is less than 1500\n",
            "1220 is less than 1500\n",
            "1240 is less than 1500\n",
            "1260 is less than 1500\n",
            "1280 is less than 1500\n",
            "1300 is less than 1500\n",
            "1320 is less than 1500\n",
            "1340 is less than 1500\n",
            "1360 is less than 1500\n",
            "1380 is less than 1500\n",
            "1400 is less than 1500\n",
            "1420 is less than 1500\n",
            "1440 is less than 1500\n",
            "1460 is less than 1500\n",
            "1480 is less than 1500\n"
          ]
        }
      ]
    },
    {
      "cell_type": "code",
      "source": [
        "#Break Continue PASS\n",
        "a=500\n",
        "while a <1000 :\n",
        "\n",
        "  if a ==50:\n",
        "  break\n",
        "  print(a,'is less than 1000')\n",
        "    a+=20\n"
      ],
      "metadata": {
        "colab": {
          "base_uri": "https://localhost:8080/",
          "height": 141
        },
        "id": "kVHtdntGoxyJ",
        "outputId": "34dd3cc4-7bab-4e03-fbfa-094751e2b934"
      },
      "execution_count": 19,
      "outputs": [
        {
          "output_type": "error",
          "ename": "IndentationError",
          "evalue": "ignored",
          "traceback": [
            "\u001b[0;36m  File \u001b[0;32m\"<ipython-input-19-fcf1f0f90390>\"\u001b[0;36m, line \u001b[0;32m6\u001b[0m\n\u001b[0;31m    break\u001b[0m\n\u001b[0m    ^\u001b[0m\n\u001b[0;31mIndentationError\u001b[0m\u001b[0;31m:\u001b[0m expected an indented block after 'if' statement on line 5\n"
          ]
        }
      ]
    },
    {
      "cell_type": "code",
      "source": [],
      "metadata": {
        "id": "vzHajwn1l-9q"
      },
      "execution_count": null,
      "outputs": []
    }
  ]
}