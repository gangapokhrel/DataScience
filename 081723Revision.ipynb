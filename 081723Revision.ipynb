{
  "nbformat": 4,
  "nbformat_minor": 0,
  "metadata": {
    "colab": {
      "provenance": [],
      "authorship_tag": "ABX9TyOHpb40w+JL0Ak5S03ChzBW",
      "include_colab_link": true
    },
    "kernelspec": {
      "name": "python3",
      "display_name": "Python 3"
    },
    "language_info": {
      "name": "python"
    }
  },
  "cells": [
    {
      "cell_type": "markdown",
      "metadata": {
        "id": "view-in-github",
        "colab_type": "text"
      },
      "source": [
        "<a href=\"https://colab.research.google.com/github/gangapokhrel/DataScience/blob/main/081723Revision.ipynb\" target=\"_parent\"><img src=\"https://colab.research.google.com/assets/colab-badge.svg\" alt=\"Open In Colab\"/></a>"
      ]
    },
    {
      "cell_type": "code",
      "execution_count": null,
      "metadata": {
        "id": "UhsmiJEZG3t7"
      },
      "outputs": [],
      "source": [
        "def print_triangle(n):\n",
        "  for i in range (1,n+1):\n",
        "    print ('*' * i)\n",
        "    n=15\n",
        "    print_triangle(n)"
      ]
    },
    {
      "cell_type": "markdown",
      "source": [
        "Print patterns - Triangle"
      ],
      "metadata": {
        "id": "P2MMEzqiPYf0"
      }
    },
    {
      "cell_type": "code",
      "source": [
        "def print_triangle(n):\n",
        "    for i in range(1, n + 1):\n",
        "        print(' ' * (n - i) + '7' * (2 * i - 1))\n",
        "\n",
        "# Change the value of 'n' to control the size of the triangle\n",
        "n = 19\n",
        "print_triangle(n)\n",
        "\n",
        "#Replace the value of n with the desired number of rows for the triangle.\n",
        "#This code will print a pattern triangle with n rows, where each row consists of spaces and asterisk (*) characters.\n",
        "#The number of asterisks in each row increases by two, and the spaces are adjusted to center the asterisks and create the triangular shape."
      ],
      "metadata": {
        "colab": {
          "base_uri": "https://localhost:8080/"
        },
        "id": "5aQwEF4CIpx2",
        "outputId": "18016ce8-4c07-4141-92f0-70526f864a73"
      },
      "execution_count": null,
      "outputs": [
        {
          "output_type": "stream",
          "name": "stdout",
          "text": [
            "                  7\n",
            "                 777\n",
            "                77777\n",
            "               7777777\n",
            "              777777777\n",
            "             77777777777\n",
            "            7777777777777\n",
            "           777777777777777\n",
            "          77777777777777777\n",
            "         7777777777777777777\n",
            "        777777777777777777777\n",
            "       77777777777777777777777\n",
            "      7777777777777777777777777\n",
            "     777777777777777777777777777\n",
            "    77777777777777777777777777777\n",
            "   7777777777777777777777777777777\n",
            "  777777777777777777777777777777777\n",
            " 77777777777777777777777777777777777\n",
            "7777777777777777777777777777777777777\n"
          ]
        }
      ]
    },
    {
      "cell_type": "markdown",
      "source": [
        "Fibonachii"
      ],
      "metadata": {
        "id": "4-bAju8qPnxh"
      }
    },
    {
      "cell_type": "code",
      "source": [
        "def fibonacci(n):\n",
        "    fib_series = [0, 1]\n",
        "    while len(fib_series) < n:\n",
        "        next_num = fib_series[-1] + fib_series[-2]\n",
        "        fib_series.append(next_num)\n",
        "    return fib_series\n",
        "\n",
        "# Change the value of 'n' to get a different number of Fibonacci numbers\n",
        "n = 89\n",
        "fib_series = fibonacci(n)\n",
        "print(fib_series)"
      ],
      "metadata": {
        "colab": {
          "base_uri": "https://localhost:8080/"
        },
        "id": "epiuNiLIKObk",
        "outputId": "fbea0827-aa23-4ccd-f377-c48abfb792ab"
      },
      "execution_count": 13,
      "outputs": [
        {
          "output_type": "stream",
          "name": "stdout",
          "text": [
            "[0, 1, 1, 2, 3, 5, 8, 13, 21, 34, 55, 89, 144, 233, 377, 610, 987, 1597, 2584, 4181, 6765, 10946, 17711, 28657, 46368, 75025, 121393, 196418, 317811, 514229, 832040, 1346269, 2178309, 3524578, 5702887, 9227465, 14930352, 24157817, 39088169, 63245986, 102334155, 165580141, 267914296, 433494437, 701408733, 1134903170, 1836311903, 2971215073, 4807526976, 7778742049, 12586269025, 20365011074, 32951280099, 53316291173, 86267571272, 139583862445, 225851433717, 365435296162, 591286729879, 956722026041, 1548008755920, 2504730781961, 4052739537881, 6557470319842, 10610209857723, 17167680177565, 27777890035288, 44945570212853, 72723460248141, 117669030460994, 190392490709135, 308061521170129, 498454011879264, 806515533049393, 1304969544928657, 2111485077978050, 3416454622906707, 5527939700884757, 8944394323791464, 14472334024676221, 23416728348467685, 37889062373143906, 61305790721611591, 99194853094755497, 160500643816367088, 259695496911122585, 420196140727489673, 679891637638612258, 1100087778366101931]\n"
          ]
        }
      ]
    },
    {
      "cell_type": "markdown",
      "source": [
        "USER DEFINED FUNCTIONS"
      ],
      "metadata": {
        "id": "AdkOSCiUPdBu"
      }
    },
    {
      "cell_type": "code",
      "source": [],
      "metadata": {
        "id": "m-k4ORnDNEF6"
      },
      "execution_count": null,
      "outputs": []
    },
    {
      "cell_type": "code",
      "source": [
        "#user defined functions\n",
        "#User-defined functions are created by the programmer to perform specific tasks tailored to their needs.\n",
        "#They allow for code reusability and organization.\n",
        "#To define a user-defined function, you use the def keyword followed by the function name, parameters, and the function body. For example:\n",
        "\n",
        "\n",
        "def Namaste(name):\n",
        "    return f\"Suva pravat, {name}!\"\n",
        "\n",
        "result = Namaste(\"Pahuna\")\n",
        "print(result)  # Output: Hello, Alice!"
      ],
      "metadata": {
        "colab": {
          "base_uri": "https://localhost:8080/"
        },
        "id": "d9Zj90NsNEHR",
        "outputId": "1dcd3d40-b8c8-4395-8ff8-6f5f1ef57580"
      },
      "execution_count": null,
      "outputs": [
        {
          "output_type": "stream",
          "name": "stdout",
          "text": [
            "Suva pravat, Pahuna!\n"
          ]
        }
      ]
    },
    {
      "cell_type": "markdown",
      "source": [],
      "metadata": {
        "id": "pzGeAlffPXoo"
      }
    },
    {
      "cell_type": "code",
      "source": [],
      "metadata": {
        "id": "Hr6oISPBJOSX"
      },
      "execution_count": null,
      "outputs": []
    }
  ]
}