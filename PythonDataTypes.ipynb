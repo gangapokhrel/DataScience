{
  "nbformat": 4,
  "nbformat_minor": 0,
  "metadata": {
    "colab": {
      "provenance": [],
      "authorship_tag": "ABX9TyPaNVD0UUZPCiTah8oBsJh/",
      "include_colab_link": true
    },
    "kernelspec": {
      "name": "python3",
      "display_name": "Python 3"
    },
    "language_info": {
      "name": "python"
    }
  },
  "cells": [
    {
      "cell_type": "markdown",
      "metadata": {
        "id": "view-in-github",
        "colab_type": "text"
      },
      "source": [
        "<a href=\"https://colab.research.google.com/github/gangapokhrel/DataScience/blob/main/PythonDataTypes.ipynb\" target=\"_parent\"><img src=\"https://colab.research.google.com/assets/colab-badge.svg\" alt=\"Open In Colab\"/></a>"
      ]
    },
    {
      "cell_type": "code",
      "execution_count": null,
      "metadata": {
        "colab": {
          "base_uri": "https://localhost:8080/"
        },
        "id": "wn7t9bu8BnQA",
        "outputId": "9fb0f753-cc4c-46c7-840e-af0bd5aa522a"
      },
      "outputs": [
        {
          "output_type": "stream",
          "name": "stdout",
          "text": [
            "yeah this is a good day, Ganga is starting to learn python in the takeo bootcamp ...:D  male 32\n",
            "12345\n",
            "My name is'ganga string1'.This is string '''test2string'''.This is now double'String'.\n",
            "{0.75, 0, 3, -11, 'a', 'x', 'test'}\n",
            "{False, True}\n",
            "{32, -32, 21, 25, 10}\n",
            "[1, 2, -4, 'a', 'f']\n",
            "(1, 3)\n",
            "(2, 4)\n",
            "(5, 7)\n",
            "(8, 10)\n",
            "gangapokhrelfromnepa alis the good life sutimamulakeseapieue\n",
            "<class 'str'>\n",
            "60\n",
            "g\n",
            "a\n",
            "n\n",
            "g\n",
            "a\n",
            "p\n",
            "o\n",
            "k\n",
            "h\n",
            "r\n",
            "e\n",
            "r\n"
          ]
        },
        {
          "output_type": "execute_result",
          "data": {
            "text/plain": [
              "('aa', 'hefonp ', 'ma')"
            ]
          },
          "metadata": {},
          "execution_count": 47
        }
      ],
      "source": [
        "# valid variables and invalid variables\n",
        "name = 'yeah this is a good day, Ganga is starting to learn python in the takeo bootcamp ...:D '\n",
        "sex = 'male'\n",
        "age='32'\n",
        "print (name,sex,age)\n",
        "\n",
        "abx = 12345\n",
        "print(abx)\n",
        "\n",
        "#incorrect syntax will not print anything even if other liners are correct, example below\n",
        "#1_abx = 'Ganga'\n",
        "#Print(1_abx)\n",
        "\n",
        "str1= \"My name is'ganga string1'.This is string '''test2string'''.This is now double'String'.\"\n",
        "print (str1)\n",
        "\n",
        "#SET\n",
        "#set is combination of unique values\n",
        "#set is collection of unordered element\n",
        "#set is represented by curly braces\n",
        "#set is mutable\n",
        "set1={'a',3,'x',-11, 'test','test','a',3/4,'x',0}\n",
        "set2= {True,False,False,True}\n",
        "set3={21,25,32,-32,4+6}\n",
        "print(set1)\n",
        "print(set2)\n",
        "print(set3)\n",
        "\n",
        "#list\n",
        "list1=[1,2,-4,'a','f']\n",
        "print(list1)\n",
        "\n",
        "#tuple\n",
        "tuple_series = [(1,3),(2,4),(5,7),(8,10)]\n",
        "for t in tuple_series: print(t)\n",
        "\n",
        "#dictionary\n",
        "\n",
        "#string index\n",
        "str2 ='gangapokhrelfromnepa alis the good life sutimamulakeseapieue'\n",
        "print (str2)\n",
        "print (type(str2))\n",
        "print (len(str2))\n",
        "\n",
        "print (str2[0])\n",
        "print (str2[1])\n",
        "print (str2[2])\n",
        "print (str2[3])\n",
        "print (str2[4])\n",
        "print (str2[5])\n",
        "print (str2[6])\n",
        "print (str2[7])\n",
        "print (str2[8])\n",
        "print (str2[9])\n",
        "print (str2[10])\n",
        "print (str2[13])\n",
        "\n",
        "str2[1:5:3], str2[8:22:2], str2[15:23:4]"
      ]
    },
    {
      "cell_type": "code",
      "source": [
        "#string index\n",
        "str2 ='gangapokhrelfromnepa alis the good life sutimamulakeseapieue'\n",
        "print (str2)\n",
        "print (type(str2))\n",
        "print (len(str2))\n",
        "\n",
        "print (str2[0])\n",
        "print (str2[1])\n",
        "print (str2[2])\n",
        "print (str2[3])\n",
        "print (str2[4])\n",
        "print (str2[5])\n",
        "print (str2[6])\n",
        "print (str2[7])\n",
        "print (str2[8])\n",
        "print (str2[9])\n",
        "print (str2[10])\n",
        "print (str2[13])\n",
        "\n",
        "str2[4:5:3], str2[8:22:2], str2[15:23:4]\n",
        "\n"
      ],
      "metadata": {
        "colab": {
          "base_uri": "https://localhost:8080/"
        },
        "id": "TssZjUZ4F90g",
        "outputId": "1b248d2b-6bcb-47ea-9171-11d2bcd3c6f0"
      },
      "execution_count": null,
      "outputs": [
        {
          "output_type": "stream",
          "name": "stdout",
          "text": [
            "gangapokhrelfromnepa alis the good life sutimamulakeseapieue\n",
            "<class 'str'>\n",
            "60\n",
            "g\n",
            "a\n",
            "n\n",
            "g\n",
            "a\n",
            "p\n",
            "o\n",
            "k\n",
            "h\n",
            "r\n",
            "e\n",
            "r\n"
          ]
        },
        {
          "output_type": "execute_result",
          "data": {
            "text/plain": [
              "('a', 'hefonp ', 'ma')"
            ]
          },
          "metadata": {},
          "execution_count": 49
        }
      ]
    },
    {
      "cell_type": "code",
      "source": [
        "str1=\"Nasunamerokathatimroashujharnasakcha\"\n",
        "\n",
        "str1[::]\n",
        "print(str1)\n",
        "\n",
        "str1[0::]\n",
        "print(str1)\n",
        "\n",
        "str1[:len(str1):]\n",
        "print(str1)\n",
        "\n",
        "str1[::1]\n",
        "print(str1)\n",
        "\n",
        "str1[:7:]\n",
        "print(str1)\n"
      ],
      "metadata": {
        "colab": {
          "base_uri": "https://localhost:8080/"
        },
        "id": "LTCxmj1cJ8ST",
        "outputId": "e4235c2a-8a86-402b-bf21-854414bf4960"
      },
      "execution_count": null,
      "outputs": [
        {
          "output_type": "stream",
          "name": "stdout",
          "text": [
            "Nasunamerokathatimroashujharnasakcha\n",
            "Nasunamerokathatimroashujharnasakcha\n",
            "Nasunamerokathatimroashujharnasakcha\n",
            "Nasunamerokathatimroashujharnasakcha\n",
            "Nasunamerokathatimroashujharnasakcha\n"
          ]
        }
      ]
    },
    {
      "cell_type": "code",
      "source": [],
      "metadata": {
        "id": "ZRkQEvGxq3jl"
      },
      "execution_count": null,
      "outputs": []
    },
    {
      "cell_type": "markdown",
      "source": [
        "Python data types\n",
        "1. standard data type\n",
        "  1. Numbers\n",
        "    1. integer - any whole number positive or negative is called as integer\n",
        "    2. float -\n",
        "    3. complex\n",
        "  2. Data structure Data type\n"
      ],
      "metadata": {
        "id": "vVAfywYhwi64"
      }
    }
  ]
}